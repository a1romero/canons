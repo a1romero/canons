{
 "cells": [
  {
   "cell_type": "code",
   "execution_count": 1,
   "metadata": {},
   "outputs": [
    {
     "name": "stdout",
     "output_type": "stream",
     "text": [
      "Requirement already satisfied: pytesseract in c:\\users\\romer\\anaconda3\\lib\\site-packages (0.3.10)\n",
      "Requirement already satisfied: Pillow>=8.0.0 in c:\\users\\romer\\anaconda3\\lib\\site-packages (from pytesseract) (9.0.1)\n",
      "Requirement already satisfied: packaging>=21.3 in c:\\users\\romer\\anaconda3\\lib\\site-packages (from pytesseract) (21.3)\n",
      "Requirement already satisfied: pyparsing!=3.0.5,>=2.0.2 in c:\\users\\romer\\anaconda3\\lib\\site-packages (from packaging>=21.3->pytesseract) (3.0.4)\n",
      "Requirement already satisfied: opencv-python in c:\\users\\romer\\anaconda3\\lib\\site-packages (4.8.1.78)\n",
      "Requirement already satisfied: numpy>=1.19.3 in c:\\users\\romer\\anaconda3\\lib\\site-packages (from opencv-python) (1.21.5)\n"
     ]
    }
   ],
   "source": [
    "!python -m pip install pytesseract\n",
    "!python -m pip install opencv-python"
   ]
  },
  {
   "cell_type": "code",
   "execution_count": 2,
   "metadata": {},
   "outputs": [
    {
     "name": "stdout",
     "output_type": "stream",
     "text": [
      "Requirement already satisfied: pymupdf in c:\\users\\romer\\anaconda3\\lib\\site-packages (1.23.12)\n",
      "Requirement already satisfied: pillow in c:\\users\\romer\\anaconda3\\lib\\site-packages (9.0.1)\n",
      "Requirement already satisfied: PyMuPDFb==1.23.9 in c:\\users\\romer\\anaconda3\\lib\\site-packages (from pymupdf) (1.23.9)\n",
      "Note: you may need to restart the kernel to use updated packages.\n"
     ]
    }
   ],
   "source": [
    "    pip install pymupdf pillow"
   ]
  },
  {
   "cell_type": "code",
   "execution_count": 1,
   "metadata": {},
   "outputs": [],
   "source": [
    "import pytesseract\n",
    "\n",
    "pytesseract.pytesseract.tesseract_cmd = r'C:\\Program Files\\Tesseract-OCR\\tesseract.exe' # replace this path with the path to your tesseract installation"
   ]
  },
  {
   "cell_type": "code",
   "execution_count": 2,
   "metadata": {},
   "outputs": [],
   "source": [
    "import fitz\n",
    "from PIL import Image\n",
    "import pandas as pd\n",
    "from pandas import DataFrame as df\n",
    "from io import StringIO\n",
    "from pathlib import Path\n",
    "import csv"
   ]
  },
  {
   "cell_type": "code",
   "execution_count": 26,
   "metadata": {},
   "outputs": [],
   "source": [
    "tesseract_path = 'C:\\\\Program Files\\\\Tesseract-OCR\\\\tesseract.exe'"
   ]
  },
  {
   "cell_type": "code",
   "execution_count": 27,
   "metadata": {},
   "outputs": [],
   "source": [
    "import processing"
   ]
  },
  {
   "cell_type": "code",
   "execution_count": 28,
   "metadata": {},
   "outputs": [],
   "source": [
    "pdf_path = r'TOCs\\NAAL TOCs\\2007\\2007_Baym_The_Norton_anthology_of_American.pdf'\n",
    "output_folder = r'TOCs\\NAAL TOCs\\2007\\processed'\n",
    "include_pngs = False"
   ]
  },
  {
   "cell_type": "code",
   "execution_count": 29,
   "metadata": {},
   "outputs": [
    {
     "name": "stdout",
     "output_type": "stream",
     "text": [
      "Done!\n"
     ]
    }
   ],
   "source": [
    "processing.pdf_to_data(pdf_path, output_folder, tesseract_path, include_pngs)"
   ]
  },
  {
   "cell_type": "code",
   "execution_count": 31,
   "metadata": {},
   "outputs": [],
   "source": [
    "def pdf_to_data(pdf_path, output_folder, include_pngs= False):\n",
    "    '''Chop a given PDF into individual pages, then convert each PDF into an image (saved to the pngs folder). Convert OCR data about each page into a .csv.\n",
    "        This function requires that you have a folder in the same level as your pdf for outputs, and then two folders within that folder titled 'pngs' and 'tsv_data'.\n",
    "        For example:\n",
    "            your pdf\n",
    "            output folder\n",
    "                pngs ** Only necessary if you want to see the processed pages-- set include_pngs to True'''\n",
    "    \n",
    "    open_pdf = fitz.open(pdf_path)\n",
    "\n",
    "    sum_string = ''\n",
    "    tsv_total = pd.DataFrame()\n",
    "    for page_num in range(open_pdf.page_count): # iterate through individual pages\n",
    "        page = open_pdf[page_num]\n",
    "\n",
    "        img = page.get_pixmap()\n",
    "        \n",
    "\n",
    "        # make the image\n",
    "        pil_img = Image.frombytes(\"RGB\", [img.width, img.height], img.samples) # convert to PIL Image\n",
    "        # improve resolution\n",
    "        scale_factor = 3 # try changing this to improve resolution\n",
    "        new_size = img.width * scale_factor, img.height * scale_factor\n",
    "        resize = pil_img.resize(new_size, Image.LANCZOS)\n",
    "        \n",
    "\n",
    "        # process image into tsv and clean some values\n",
    "        png_to_data = pytesseract.image_to_data(resize, config = r'--psm 6') \n",
    "        data_to_tsv = StringIO(png_to_data)\n",
    "        data_read = pd.read_csv(data_to_tsv, sep='\\t', quoting=csv.QUOTE_NONE)\n",
    "        tsv_clean = data_read[['line_num', 'word_num', 'left', 'top', 'text', 'conf']]\n",
    "        tsv_total = pd.concat([tsv_total, tsv_clean])\n",
    "\n",
    "        img_to_string = pytesseract.image_to_string(resize, config = r'--psm 6', lang = 'en')\n",
    "        sum_string += img_to_string\n",
    "        \n",
    "        if include_pngs:\n",
    "            output_png_path = Path(f\"{output_folder}/pngs/page_{page_num + 1}.png\")\n",
    "            resize.save(output_png_path)\n",
    "\n",
    "    output_tsv_total = Path(f\"{output_folder}/location.csv\")\n",
    "    tsv_total.to_csv(output_tsv_total, sep= ',', index=False)\n",
    "    #print(sum_string)\n",
    "    output_str_path = Path(f\"{output_folder}/str_data.txt\")\n",
    "    with open(output_str_path, 'w') as file:\n",
    "        file.write(sum_string)"
   ]
  },
  {
   "cell_type": "code",
   "execution_count": 4,
   "metadata": {},
   "outputs": [
    {
     "name": "stdout",
     "output_type": "stream",
     "text": [
      "Data successfully written to output_data.csv\n"
     ]
    }
   ],
   "source": [
    "import csv\n",
    "import re\n",
    "\n",
    "# Paths to input and output files\n",
    "input_path = r'TOCs/Black_Lit_in_America/processed/str_data.txt' # Update with your actual file path\n",
    "output_path = 'output_data.csv'\n",
    "\n",
    "# Regular expressions for identifying titles and page numbers\n",
    "title_page_pattern = re.compile(r'^(.*?)\\s+(\\d+)$')  # Matches \"Title    PageNumber\"\n",
    "author_pattern = re.compile(r'^[A-Za-z]{2,}(?:\\s[A-Za-z]{2,}){0,4}$')  # Matches lines with only author names\n",
    "\n",
    "# Initialize list to store parsed entries and a variable to keep track of the last seen author\n",
    "parsed_data = []\n",
    "last_author = \"Unknown\"\n",
    "\n",
    "# Read and parse the file\n",
    "with open(input_path, 'r') as file:\n",
    "    for line in file:\n",
    "        line = line.strip()  # Remove whitespace\n",
    "\n",
    "        # Check if the line contains only an author name\n",
    "        author_match = author_pattern.match(line)\n",
    "        if author_match:\n",
    "            last_author = author_match.group(0).strip()\n",
    "            continue  # Move to the next line\n",
    "\n",
    "        # Check for \"Title    PageNumber\" format\n",
    "        title_page_match = title_page_pattern.match(line)\n",
    "        if title_page_match:\n",
    "            work = title_page_match.group(1).strip()\n",
    "            page_number = title_page_match.group(2)\n",
    "            parsed_data.append([work, last_author, page_number])\n",
    "            continue\n",
    "\n",
    "# Write parsed data to a CSV file\n",
    "with open(output_path, mode='w', newline='') as file:\n",
    "    writer = csv.writer(file)\n",
    "    writer.writerow([\"Work\", \"Author\", \"Page Number\"])  # Write headers\n",
    "    writer.writerows(parsed_data)  # Write data rows\n",
    "\n",
    "print(f'Data successfully written to {output_path}')"
   ]
  },
  {
   "cell_type": "code",
   "execution_count": 5,
   "metadata": {},
   "outputs": [
    {
     "data": {
      "text/html": [
       "<div>\n",
       "<style scoped>\n",
       "    .dataframe tbody tr th:only-of-type {\n",
       "        vertical-align: middle;\n",
       "    }\n",
       "\n",
       "    .dataframe tbody tr th {\n",
       "        vertical-align: top;\n",
       "    }\n",
       "\n",
       "    .dataframe thead th {\n",
       "        text-align: right;\n",
       "    }\n",
       "</style>\n",
       "<table border=\"1\" class=\"dataframe\">\n",
       "  <thead>\n",
       "    <tr style=\"text-align: right;\">\n",
       "      <th></th>\n",
       "      <th>Work</th>\n",
       "      <th>Author</th>\n",
       "      <th>Page Number</th>\n",
       "    </tr>\n",
       "  </thead>\n",
       "  <tbody>\n",
       "    <tr>\n",
       "      <th>0</th>\n",
       "      <td>{ Black American Literature: An Overview</td>\n",
       "      <td>Preface nw</td>\n",
       "      <td>1</td>\n",
       "    </tr>\n",
       "    <tr>\n",
       "      <th>1</th>\n",
       "      <td>1 Black Folklore</td>\n",
       "      <td>Preface nw</td>\n",
       "      <td>19</td>\n",
       "    </tr>\n",
       "    <tr>\n",
       "      <th>2</th>\n",
       "      <td>References</td>\n",
       "      <td>Preface nw</td>\n",
       "      <td>21</td>\n",
       "    </tr>\n",
       "    <tr>\n",
       "      <th>3</th>\n",
       "      <td>“Sheer Crops”</td>\n",
       "      <td>Preface nw</td>\n",
       "      <td>22</td>\n",
       "    </tr>\n",
       "    <tr>\n",
       "      <th>4</th>\n",
       "      <td>“Ole Ss Goose”</td>\n",
       "      <td>Preface nw</td>\n",
       "      <td>24</td>\n",
       "    </tr>\n",
       "    <tr>\n",
       "      <th>...</th>\n",
       "      <td>...</td>\n",
       "      <td>...</td>\n",
       "      <td>...</td>\n",
       "    </tr>\n",
       "    <tr>\n",
       "      <th>132</th>\n",
       "      <td>“Assasxination” fram Don't Cry, Scream</td>\n",
       "      <td>Julian Mayfield</td>\n",
       "      <td>422</td>\n",
       "    </tr>\n",
       "    <tr>\n",
       "      <th>133</th>\n",
       "      <td>Criminal Insane\" from Poems from Prison</td>\n",
       "      <td>Etheridge Knight</td>\n",
       "      <td>422</td>\n",
       "    </tr>\n",
       "    <tr>\n",
       "      <th>134</th>\n",
       "      <td>“The Violent Space” from Poems from Privon</td>\n",
       "      <td>Etheridge Knight</td>\n",
       "      <td>423</td>\n",
       "    </tr>\n",
       "    <tr>\n",
       "      <th>135</th>\n",
       "      <td>\"Tt Was a Funky Deal” from Poems from Prison</td>\n",
       "      <td>Etheridge Knight</td>\n",
       "      <td>425</td>\n",
       "    </tr>\n",
       "    <tr>\n",
       "      <th>136</th>\n",
       "      <td>Biographies</td>\n",
       "      <td>Etheridge Knight</td>\n",
       "      <td>426</td>\n",
       "    </tr>\n",
       "  </tbody>\n",
       "</table>\n",
       "<p>137 rows × 3 columns</p>\n",
       "</div>"
      ],
      "text/plain": [
       "                                             Work            Author  \\\n",
       "0        { Black American Literature: An Overview        Preface nw   \n",
       "1                                1 Black Folklore        Preface nw   \n",
       "2                                      References        Preface nw   \n",
       "3                                   “Sheer Crops”        Preface nw   \n",
       "4                                  “Ole Ss Goose”        Preface nw   \n",
       "..                                            ...               ...   \n",
       "132        “Assasxination” fram Don't Cry, Scream   Julian Mayfield   \n",
       "133       Criminal Insane\" from Poems from Prison  Etheridge Knight   \n",
       "134    “The Violent Space” from Poems from Privon  Etheridge Knight   \n",
       "135  \"Tt Was a Funky Deal” from Poems from Prison  Etheridge Knight   \n",
       "136                                   Biographies  Etheridge Knight   \n",
       "\n",
       "     Page Number  \n",
       "0              1  \n",
       "1             19  \n",
       "2             21  \n",
       "3             22  \n",
       "4             24  \n",
       "..           ...  \n",
       "132          422  \n",
       "133          422  \n",
       "134          423  \n",
       "135          425  \n",
       "136          426  \n",
       "\n",
       "[137 rows x 3 columns]"
      ]
     },
     "execution_count": 5,
     "metadata": {},
     "output_type": "execute_result"
    }
   ],
   "source": [
    "data = pd.read_csv('output_data.csv')\n",
    "data"
   ]
  }
 ],
 "metadata": {
  "kernelspec": {
   "display_name": "base",
   "language": "python",
   "name": "python3"
  },
  "language_info": {
   "codemirror_mode": {
    "name": "ipython",
    "version": 3
   },
   "file_extension": ".py",
   "mimetype": "text/x-python",
   "name": "python",
   "nbconvert_exporter": "python",
   "pygments_lexer": "ipython3",
   "version": "3.9.12"
  }
 },
 "nbformat": 4,
 "nbformat_minor": 2
}
