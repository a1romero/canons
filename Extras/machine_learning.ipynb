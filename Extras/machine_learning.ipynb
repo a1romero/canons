{
 "cells": [
  {
   "cell_type": "code",
   "execution_count": 1,
   "metadata": {},
   "outputs": [
    {
     "name": "stdout",
     "output_type": "stream",
     "text": [
      "Requirement already satisfied: imbalanced-learn in c:\\users\\romer\\anaconda3\\lib\\site-packages (0.12.2)\n",
      "Requirement already satisfied: numpy>=1.17.3 in c:\\users\\romer\\anaconda3\\lib\\site-packages (from imbalanced-learn) (1.21.5)\n",
      "Requirement already satisfied: scipy>=1.5.0 in c:\\users\\romer\\anaconda3\\lib\\site-packages (from imbalanced-learn) (1.7.3)\n",
      "Requirement already satisfied: scikit-learn>=1.0.2 in c:\\users\\romer\\anaconda3\\lib\\site-packages (from imbalanced-learn) (1.0.2)\n",
      "Requirement already satisfied: threadpoolctl>=2.0.0 in c:\\users\\romer\\anaconda3\\lib\\site-packages (from imbalanced-learn) (2.2.0)\n",
      "Requirement already satisfied: joblib>=1.1.1 in c:\\users\\romer\\anaconda3\\lib\\site-packages (from imbalanced-learn) (1.4.0)\n",
      "Note: you may need to restart the kernel to use updated packages.\n"
     ]
    }
   ],
   "source": [
    "pip install imbalanced-learn"
   ]
  },
  {
   "cell_type": "code",
   "execution_count": null,
   "metadata": {},
   "outputs": [],
   "source": [
    "import pandas as pd\n",
    "import numpy as np\n",
    "import matplotlib.pyplot as plt\n",
    "from sklearn.linear_model import LogisticRegression\n",
    "from sklearn.model_selection import GridSearchCV, train_test_split, cross_val_score, ShuffleSplit, cross_val_predict\n",
    "from sklearn.pipeline import Pipeline, make_pipeline\n",
    "from sklearn.preprocessing import StandardScaler\n",
    "from sklearn.metrics import accuracy_score, confusion_matrix\n",
    "from sklearn.svm import SVC\n",
    "from sklearn.neighbors import KNeighborsClassifier\n",
    "from sklearn import metrics\n",
    "from collections import Counter"
   ]
  },
  {
   "cell_type": "code",
   "execution_count": 3,
   "metadata": {},
   "outputs": [],
   "source": [
    "data = pd.read_csv(r'TOCs\\NAFAM 3\\processed_v1\\tsv_data.tsv', sep= '\\t')\n",
    "remove_blank_space = data[data.conf != -1]\n",
    "#remove_blank_space.to_csv(r'clean_test_tsv.csv', sep= ',', index=False)"
   ]
  },
  {
   "cell_type": "code",
   "execution_count": 2,
   "metadata": {},
   "outputs": [],
   "source": [
    "data_x_y = pd.read_csv(r'try.csv', encoding = \"ISO-8859-1\")\n",
    "x = data_x_y[['line_num', 'word_num', 'left', 'top', 'conf']]\n",
    "y = data_x_y['class']"
   ]
  },
  {
   "cell_type": "code",
   "execution_count": 4,
   "metadata": {},
   "outputs": [],
   "source": [
    "import imblearn\n",
    "from imblearn.over_sampling import ADASYN \n",
    "ada = ADASYN(random_state=42)\n",
    "xs, ys = ada.fit_resample(x, y)\n",
    "\n",
    "X_train, X_test, y_train, y_test = train_test_split(xs, ys, test_size = 0.25, random_state = 1234)"
   ]
  },
  {
   "cell_type": "code",
   "execution_count": 5,
   "metadata": {},
   "outputs": [],
   "source": [
    "scale = StandardScaler()\n",
    "\n",
    "if len(X_train.shape)==1:\n",
    "  X_train = X_train.reshape(-1,1)\n",
    "  X_test = X_test.reshape(-1,1)\n",
    "else:\n",
    "  X_train = scale.fit_transform(X_train)\n",
    "  X_test = scale.transform(X_test)"
   ]
  },
  {
   "cell_type": "code",
   "execution_count": 8,
   "metadata": {},
   "outputs": [],
   "source": [
    "knn_pipe = Pipeline(steps=[('knn', KNeighborsClassifier())])\n",
    "knn_params = {'knn__n_neighbors':np.arange(3,120,1),'knn__weights':['uniform','distance']}\n",
    "\n",
    "search = GridSearchCV(estimator= knn_pipe, cv=5, scoring= 'neg_mean_squared_error', param_grid= knn_params)\n",
    "search_results = search.fit(X_train, y_train)"
   ]
  },
  {
   "cell_type": "code",
   "execution_count": 9,
   "metadata": {},
   "outputs": [
    {
     "name": "stdout",
     "output_type": "stream",
     "text": [
      "The accuracy score is: 0.7699619771863118\n",
      "Best params: {'knn__n_neighbors': 4, 'knn__weights': 'distance'}\n"
     ]
    },
    {
     "data": {
      "image/png": "[encoded data removed]",
      "text/plain": [
       "<Figure size 432x288 with 2 Axes>"
      ]
     },
     "metadata": {
      "needs_background": "light"
     },
     "output_type": "display_data"
    }
   ],
   "source": [
    "y_pred = search_results.predict(X_test)\n",
    "print(\"The accuracy score is: \" + str(accuracy_score(y_pred, y_test)))\n",
    "print(\"Best params: \" + str(search_results.best_params_))\n",
    "\n",
    "knn_confusion_matrix = confusion_matrix(y_test, search_results.predict(X_test))\n",
    "display = metrics.ConfusionMatrixDisplay(confusion_matrix = knn_confusion_matrix)\n",
    "display.plot(cmap = 'Greens')\n",
    "plt.show()"
   ]
  }
 ],
 "metadata": {
  "kernelspec": {
   "display_name": "base",
   "language": "python",
   "name": "python3"
  },
  "language_info": {
   "codemirror_mode": {
    "name": "ipython",
    "version": 3
   },
   "file_extension": ".py",
   "mimetype": "text/x-python",
   "name": "python",
   "nbconvert_exporter": "python",
   "pygments_lexer": "ipython3",
   "version": "3.9.12"
  }
 },
 "nbformat": 4,
 "nbformat_minor": 2
}
