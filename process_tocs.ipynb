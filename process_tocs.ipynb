{
 "cells": [
  {
   "cell_type": "markdown",
   "metadata": {},
   "source": [
    "### setting up the processing (including tesseract)"
   ]
  },
  {
   "cell_type": "code",
   "execution_count": 2,
   "metadata": {},
   "outputs": [],
   "source": [
    "import processing\n",
    "import pandas as pd\n",
    "import numpy as np"
   ]
  },
  {
   "cell_type": "code",
   "execution_count": 3,
   "metadata": {},
   "outputs": [
    {
     "name": "stdout",
     "output_type": "stream",
     "text": [
      "Done!\n"
     ]
    }
   ],
   "source": [
    "pdf_path = r'TOC_testing\\NAFAM 3\\NAFAM.3.2014_v1_cropped.pdf'\n",
    "output_folder = r'TOC_testing\\NAFAM 3\\processed_v1'\n",
    "tesseract_path = r'C://Program Files//Tesseract-OCR//tesseract.exe'\n",
    "\n",
    "processing.pdf_to_data(pdf_path, output_folder, tesseract_path, include_pngs = False)"
   ]
  },
  {
   "cell_type": "code",
   "execution_count": null,
   "metadata": {},
   "outputs": [
    {
     "name": "stdout",
     "output_type": "stream",
     "text": [
      "Data successfully written to TOC_testing\\NAFAM 3\\processed_v1/output_data.csv\n"
     ]
    }
   ],
   "source": [
    "import csv\n",
    "import spacy\n",
    "import re\n",
    "\n",
    "# Load the spaCy model for Named Entity Recognition\n",
    "nlp = spacy.load('en_core_web_sm')\n",
    "\n",
    "# Paths to input and output files\n",
    "input_folder = r'TOC_testing\\NAFAM 3\\processed_v1'\n",
    "input_path = f'{input_folder}/shortened_str.txt'  # Update with your actual file path\n",
    "output_path = f'{input_folder}/output_data.csv'\n",
    "\n",
    "# Regular expressions for matching titles and page numbers\n",
    "title_page_pattern = re.compile(r'^(.*?)\\s+(\\d+)$')  # Matches \"Title    PageNumber\"\n",
    "\n",
    "# Initialize list to store parsed entries\n",
    "parsed_data = []\n",
    "last_author = None\n",
    "\n",
    "# Read and parse the file\n",
    "with open(input_path, 'r') as file:\n",
    "    for line in file:\n",
    "        line = line.strip()  # Remove leading and trailing whitespace\n",
    "        line = line.replace('/', '')  # Remove slashes\n",
    "        if not line:\n",
    "            continue  # Skip empty lines\n",
    "\n",
    "        # Use spaCy to process the line and extract named entities\n",
    "        doc = nlp(line)\n",
    "        \n",
    "        # Search for person entities (author names)\n",
    "        is_author_line = False\n",
    "        for ent in doc.ents:\n",
    "            if ent.label_ == \"PERSON\":  # If the entity is a person\n",
    "                last_author = ent.text.strip()  # Update the last_author\n",
    "                is_author_line = True\n",
    "                break  # Stop processing further for this line\n",
    "\n",
    "        # Skip the line if it's an author name\n",
    "        if is_author_line:\n",
    "            continue\n",
    "\n",
    "        # Check if the line has a page number (matches \"Title PageNumber\")\n",
    "        title_page_match = title_page_pattern.match(line)\n",
    "        if title_page_match:\n",
    "            work = title_page_match.group(1).strip()\n",
    "            page_number = title_page_match.group(2)\n",
    "\n",
    "            # Associate the title with the last author\n",
    "            parsed_data.append([work, last_author or \"Unknown Author\", page_number])\n",
    "            continue\n",
    "        \n",
    "        # Handle lines with stray formatting where we might have a title without page number\n",
    "        if last_author and not title_page_match:\n",
    "            parsed_data.append([line, last_author, \"N/A\"])\n",
    "\n",
    "# Write parsed data to a CSV file\n",
    "with open(output_path, mode='w', newline='') as file:\n",
    "    writer = csv.writer(file)\n",
    "    writer.writerow([\"Work\", \"Author\", \"Page Number\"])  # Write headers\n",
    "    writer.writerows(parsed_data)  # Write data rows\n",
    "\n",
    "print(f'Data successfully written to {output_path}')"
   ]
  }
 ],
 "metadata": {
  "kernelspec": {
   "display_name": "base",
   "language": "python",
   "name": "python3"
  },
  "language_info": {
   "codemirror_mode": {
    "name": "ipython",
    "version": 3
   },
   "file_extension": ".py",
   "mimetype": "text/x-python",
   "name": "python",
   "nbconvert_exporter": "python",
   "pygments_lexer": "ipython3",
   "version": "3.9.12"
  }
 },
 "nbformat": 4,
 "nbformat_minor": 2
}
