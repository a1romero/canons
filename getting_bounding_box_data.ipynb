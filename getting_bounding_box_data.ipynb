{
 "cells": [
  {
   "cell_type": "code",
   "execution_count": null,
   "metadata": {},
   "outputs": [],
   "source": [
    "!python -m pip install pytesseract\n",
    "!python -m pip install opencv-python"
   ]
  },
  {
   "cell_type": "code",
   "execution_count": null,
   "metadata": {},
   "outputs": [],
   "source": [
    "from PIL import Image\n",
    "import pytesseract\n",
    "\n",
    "# Set the path to local tesseract instance\n",
    "# be sure to download the tesseract instance from the tesseract website\n",
    "pytesseract.pytesseract.tesseract_cmd = r'C:\\Program Files\\Tesseract-OCR\\tesseract.exe'"
   ]
  },
  {
   "cell_type": "code",
   "execution_count": null,
   "metadata": {},
   "outputs": [],
   "source": [
    "# Initial image processing\n",
    "img='NAFAM.1.1997-03-edit.png' # image name here\n",
    "\n",
    "# the config key indicates a table of contents. This is why tesseract can match names of a work to page numbers\n",
    "trypng = pytesseract.image_to_string(img, config=r'--psm 6')\n",
    "print(trypng)\n",
    "# decently similar to the original image"
   ]
  },
  {
   "cell_type": "code",
   "execution_count": null,
   "metadata": {},
   "outputs": [],
   "source": [
    "# Trying image_to_data, it returns a string that we will have to convert to a dataframe\n",
    "todata = pytesseract.image_to_data(img)\n",
    "print(todata)\n",
    "\n",
    "writefile = open(r'boxdata.txt', 'w')\n",
    "writefile.write(todata)\n",
    "writefile.close()"
   ]
  },
  {
   "cell_type": "code",
   "execution_count": null,
   "metadata": {},
   "outputs": [],
   "source": [
    "# Converting the data to dataframe\n",
    "import pandas as pd\n",
    "from pandas import DataFrame as df"
   ]
  },
  {
   "cell_type": "code",
   "execution_count": null,
   "metadata": {},
   "outputs": [],
   "source": [
    "tdata = pd.read_csv('boxdata.txt', sep= '\\t')\n",
    "tdata.head(20)"
   ]
  }
 ],
 "metadata": {
  "kernelspec": {
   "display_name": "base",
   "language": "python",
   "name": "python3"
  },
  "language_info": {
   "codemirror_mode": {
    "name": "ipython",
    "version": 3
   },
   "file_extension": ".py",
   "mimetype": "text/x-python",
   "name": "python",
   "nbconvert_exporter": "python",
   "pygments_lexer": "ipython3",
   "version": "3.9.12"
  }
 },
 "nbformat": 4,
 "nbformat_minor": 2
}
